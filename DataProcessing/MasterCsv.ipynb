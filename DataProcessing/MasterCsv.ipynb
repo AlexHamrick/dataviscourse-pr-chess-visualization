{
 "cells": [
  {
   "cell_type": "markdown",
   "metadata": {},
   "source": [
    "Raw data, i.e. all.pgn, source\n",
    "\n",
    "https://drive.google.com/file/d/0Bw0y3jV73lx_NElnLWVlNG9KNkU/edit?usp=sharing"
   ]
  },
  {
   "cell_type": "code",
   "execution_count": 39,
   "metadata": {},
   "outputs": [],
   "source": [
    "class ChessGame:\n",
    "    \n",
    "    def __init__(self, cg=None):\n",
    "        if cg == None:\n",
    "            self.date = None\n",
    "            self.white_name = None\n",
    "            self.white_elo = None\n",
    "            self.black_name = None\n",
    "            self.black_elo = None\n",
    "            self.eco = None\n",
    "            self.result = None\n",
    "        else:\n",
    "            self.date = cg.date\n",
    "            self.white_name = cg.white_name\n",
    "            self.white_elo = cg.white_elo\n",
    "            self.black_name = cg.black_name\n",
    "            self.black_elo = cg.black_elo\n",
    "            self.eco = cg.eco\n",
    "            self.result = cg.result\n",
    "        \n",
    "    def missing_needed_data(self):\n",
    "        return (self.white_name == None) and (self.black_name == None)\n",
    "    \n",
    "    def extract_data_from_line(self, line):\n",
    "        if line.startswith('[EventDate'):\n",
    "            self.date = line.split(\"\\\"\")[1]\n",
    "        elif line.startswith(\"[WhiteElo\"):\n",
    "            self.white_elo = line.split(\"\\\"\")[1]\n",
    "        elif line.startswith(\"[White\"):\n",
    "            self.white_name = line.split(\"\\\"\")[1]\n",
    "        elif line.startswith(\"[BlackElo\"):\n",
    "            self.black_elo = line.split(\"\\\"\")[1]\n",
    "        elif line.startswith(\"[Black\"):\n",
    "            self.black_name = line.split(\"\\\"\")[1]\n",
    "        elif line.startswith(\"[ECO\"):\n",
    "            self.eco = line.split(\"\\\"\")[1]\n",
    "            \n",
    "    def clear(self):\n",
    "        self.date = None\n",
    "        self.white_name = None\n",
    "        self.white_elo = None\n",
    "        self.black_name = None\n",
    "        self.black_elo = None\n",
    "        self.eco = None\n",
    "        self.result = None\n",
    "    \n",
    "    def set_result(self, result):\n",
    "        self.result = result\n",
    "        \n",
    "    def get_csv_line_str(self):\n",
    "        return str(self.date) + \";\" + str(self.white_name) + \";\" + str(self.white_elo) + \";\" + str(self.black_name) + \";\" + str(self.black_elo) + \";\" + str(self.result) + \";\" + str(self.eco)"
   ]
  },
  {
   "cell_type": "code",
   "execution_count": null,
   "metadata": {},
   "outputs": [],
   "source": []
  },
  {
   "cell_type": "code",
   "execution_count": 57,
   "metadata": {},
   "outputs": [],
   "source": [
    "# raw_data_path = \"pgn_sample.txt\"\n",
    "raw_data_path = \"all.pgn\"\n",
    "\n",
    "with open(raw_data_path) as f:\n",
    "    games = list()\n",
    "    temp_cg = ChessGame()\n",
    "    \n",
    "    for line in f:\n",
    "        # Skip blank lines\n",
    "        if line == '\\n':\n",
    "            continue\n",
    "        # Skip moves lines\n",
    "        elif line.startswith('\\t'):\n",
    "            continue\n",
    "        # Meta-data line\n",
    "        elif line.startswith('['):\n",
    "            temp_cg.extract_data_from_line(line)\n",
    "        # Result line\n",
    "        else:\n",
    "            temp_cg.set_result(line.strip())\n",
    "            games.append(ChessGame(temp_cg))\n",
    "            temp_cg.clear()\n",
    "            \n",
    "with open(\"Master.csv\", \"w\", encoding='utf8') as f:\n",
    "    header = \"Date;WhiteName;WhiteElo;BlackName;BlackElo;Result;ECO\"\n",
    "    f.write(header)\n",
    "    f.write(\"\\n\")\n",
    "    \n",
    "    for game in games:\n",
    "        f.write(game.get_csv_line_str())\n",
    "        f.write(\"\\n\")"
   ]
  }
 ],
 "metadata": {
  "kernelspec": {
   "display_name": "Python 3",
   "language": "python",
   "name": "python3"
  },
  "language_info": {
   "codemirror_mode": {
    "name": "ipython",
    "version": 3
   },
   "file_extension": ".py",
   "mimetype": "text/x-python",
   "name": "python",
   "nbconvert_exporter": "python",
   "pygments_lexer": "ipython3",
   "version": "3.7.6"
  }
 },
 "nbformat": 4,
 "nbformat_minor": 4
}
