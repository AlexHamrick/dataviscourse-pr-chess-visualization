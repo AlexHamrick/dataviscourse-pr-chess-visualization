{
 "cells": [
  {
   "cell_type": "code",
   "execution_count": null,
   "metadata": {},
   "outputs": [],
   "source": [
    "import pandas as pd\n",
    "import numpy as np"
   ]
  },
  {
   "cell_type": "code",
   "execution_count": null,
   "metadata": {},
   "outputs": [],
   "source": [
    "file_path = '../Data/BestPlayers.csv'"
   ]
  },
  {
   "cell_type": "code",
   "execution_count": null,
   "metadata": {},
   "outputs": [],
   "source": [
    "df = pd.read_csv(file_path, sep=';', encoding='utf-8')\n",
    "print(df.shape)\n",
    "df.head()"
   ]
  },
  {
   "cell_type": "code",
   "execution_count": null,
   "metadata": {},
   "outputs": [],
   "source": [
    "# Make new columns\n",
    "df['Year'] = df['Date'].str[:4]\n",
    "df['WhiteWins'] = df['Result'] == '1-0'\n",
    "df['BlackWins'] = df['Result'] == '0-1'\n",
    "df['Draws'] = df['Result'] == '1/2-1/2'\n",
    "\n",
    "print(df.shape)\n",
    "df.head()"
   ]
  },
  {
   "cell_type": "code",
   "execution_count": null,
   "metadata": {},
   "outputs": [],
   "source": [
    "# Desired results\n",
    "# ECO, Year, Total Games Total, White Wins Tally, Black Wins Tally, Draws Tally(\n",
    "groupby_cols = ['Year', 'ECO']\n",
    "g = df.groupby(groupby_cols)\n",
    "\n",
    "size_se = g.size()\n",
    "size_se.name = 'Games'\n",
    "\n",
    "sum_cols = ['WhiteWins', 'BlackWins', 'Draws']\n",
    "sum_df = g[sum_cols].sum().astype(int)\n",
    "\n",
    "print(size_df.shape)\n",
    "print(sum_df.shape)\n",
    "\n",
    "result_df = pd.DataFrame(size_se).join(sum_df)\n",
    "result_df.reset_index(inplace=True)"
   ]
  },
  {
   "cell_type": "code",
   "execution_count": null,
   "metadata": {},
   "outputs": [],
   "source": [
    "# Check that the total of each row matches to verify.  Should be true.\n",
    "print((result_df[sum_cols].sum(axis=1) == result_df['Games']).all())"
   ]
  },
  {
   "cell_type": "code",
   "execution_count": null,
   "metadata": {},
   "outputs": [],
   "source": [
    "# Write to a csv\n",
    "eco_path = '../Data/ECO.csv'\n",
    "result_df.to_csv(eco_path, sep=';', index=False, encoding='utf-8')"
   ]
  }
 ],
 "metadata": {
  "kernelspec": {
   "display_name": "Python 3",
   "language": "python",
   "name": "python3"
  },
  "language_info": {
   "codemirror_mode": {
    "name": "ipython",
    "version": 3
   },
   "file_extension": ".py",
   "mimetype": "text/x-python",
   "name": "python",
   "nbconvert_exporter": "python",
   "pygments_lexer": "ipython3",
   "version": "3.7.6"
  }
 },
 "nbformat": 4,
 "nbformat_minor": 4
}
