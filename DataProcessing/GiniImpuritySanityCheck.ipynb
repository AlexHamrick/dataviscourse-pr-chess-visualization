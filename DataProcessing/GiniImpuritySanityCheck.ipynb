{
 "cells": [
  {
   "cell_type": "code",
   "execution_count": 23,
   "metadata": {},
   "outputs": [],
   "source": [
    "import pandas as pd\n",
    "import matplotlib.pyplot as plt"
   ]
  },
  {
   "cell_type": "code",
   "execution_count": 2,
   "metadata": {},
   "outputs": [],
   "source": [
    "file_path = \"GiniImpurity.csv\""
   ]
  },
  {
   "cell_type": "code",
   "execution_count": 3,
   "metadata": {},
   "outputs": [
    {
     "name": "stdout",
     "output_type": "stream",
     "text": [
      "(2618, 4)\n"
     ]
    },
    {
     "data": {
      "text/html": [
       "<div>\n",
       "<style scoped>\n",
       "    .dataframe tbody tr th:only-of-type {\n",
       "        vertical-align: middle;\n",
       "    }\n",
       "\n",
       "    .dataframe tbody tr th {\n",
       "        vertical-align: top;\n",
       "    }\n",
       "\n",
       "    .dataframe thead th {\n",
       "        text-align: right;\n",
       "    }\n",
       "</style>\n",
       "<table border=\"1\" class=\"dataframe\">\n",
       "  <thead>\n",
       "    <tr style=\"text-align: right;\">\n",
       "      <th></th>\n",
       "      <th>WhiteName</th>\n",
       "      <th>GiniImpurity</th>\n",
       "      <th>GamesInDataset</th>\n",
       "      <th>MaxElo</th>\n",
       "    </tr>\n",
       "  </thead>\n",
       "  <tbody>\n",
       "    <tr>\n",
       "      <th>0</th>\n",
       "      <td>Aagaard, Jacob</td>\n",
       "      <td>0.947368</td>\n",
       "      <td>19</td>\n",
       "      <td>2457</td>\n",
       "    </tr>\n",
       "    <tr>\n",
       "      <th>1</th>\n",
       "      <td>Aaron, Manuel</td>\n",
       "      <td>0.945180</td>\n",
       "      <td>23</td>\n",
       "      <td>2380</td>\n",
       "    </tr>\n",
       "    <tr>\n",
       "      <th>2</th>\n",
       "      <td>Abdulla, Al Rakib</td>\n",
       "      <td>0.860000</td>\n",
       "      <td>10</td>\n",
       "      <td>2484</td>\n",
       "    </tr>\n",
       "    <tr>\n",
       "      <th>3</th>\n",
       "      <td>Abergel, Thal</td>\n",
       "      <td>0.909091</td>\n",
       "      <td>11</td>\n",
       "      <td>2456</td>\n",
       "    </tr>\n",
       "    <tr>\n",
       "      <th>4</th>\n",
       "      <td>Abramovic, Bosko</td>\n",
       "      <td>0.970845</td>\n",
       "      <td>98</td>\n",
       "      <td>2524</td>\n",
       "    </tr>\n",
       "  </tbody>\n",
       "</table>\n",
       "</div>"
      ],
      "text/plain": [
       "           WhiteName  GiniImpurity  GamesInDataset  MaxElo\n",
       "0     Aagaard, Jacob      0.947368              19    2457\n",
       "1      Aaron, Manuel      0.945180              23    2380\n",
       "2  Abdulla, Al Rakib      0.860000              10    2484\n",
       "3      Abergel, Thal      0.909091              11    2456\n",
       "4   Abramovic, Bosko      0.970845              98    2524"
      ]
     },
     "execution_count": 3,
     "metadata": {},
     "output_type": "execute_result"
    }
   ],
   "source": [
    "df = pd.read_csv(file_path, sep=\";\", encoding='utf-8')\n",
    "print(df.shape)\n",
    "df.head()"
   ]
  },
  {
   "cell_type": "code",
   "execution_count": 4,
   "metadata": {},
   "outputs": [
    {
     "data": {
      "text/plain": [
       "count    2618.000000\n",
       "mean        0.934989\n",
       "std         0.044153\n",
       "min         0.620000\n",
       "25%         0.909091\n",
       "50%         0.942128\n",
       "75%         0.970130\n",
       "max         0.994943\n",
       "Name: GiniImpurity, dtype: float64"
      ]
     },
     "execution_count": 4,
     "metadata": {},
     "output_type": "execute_result"
    }
   ],
   "source": [
    "df['GiniImpurity'].describe()"
   ]
  },
  {
   "cell_type": "code",
   "execution_count": 5,
   "metadata": {},
   "outputs": [
    {
     "data": {
      "text/plain": [
       "<matplotlib.axes._subplots.AxesSubplot at 0x1e31ca6e908>"
      ]
     },
     "execution_count": 5,
     "metadata": {},
     "output_type": "execute_result"
    },
    {
     "data": {
      "image/png": "[encoded data removed]",
      "text/plain": [
       "<Figure size 432x288 with 1 Axes>"
      ]
     },
     "metadata": {
      "needs_background": "light"
     },
     "output_type": "display_data"
    }
   ],
   "source": [
    "df['GiniImpurity'].plot.density()"
   ]
  },
  {
   "cell_type": "code",
   "execution_count": 6,
   "metadata": {},
   "outputs": [
    {
     "data": {
      "text/plain": [
       "<matplotlib.axes._subplots.AxesSubplot at 0x1e3221dff08>"
      ]
     },
     "execution_count": 6,
     "metadata": {},
     "output_type": "execute_result"
    },
    {
     "data": {
      "image/png": "[encoded data removed]",
      "text/plain": [
       "<Figure size 432x288 with 1 Axes>"
      ]
     },
     "metadata": {
      "needs_background": "light"
     },
     "output_type": "display_data"
    }
   ],
   "source": [
    "df['GiniImpurity'].plot.hist()"
   ]
  },
  {
   "cell_type": "code",
   "execution_count": 25,
   "metadata": {},
   "outputs": [
    {
     "name": "stdout",
     "output_type": "stream",
     "text": [
      "count    675.000000\n",
      "mean      26.712593\n",
      "std       42.210091\n",
      "min       10.000000\n",
      "25%       12.000000\n",
      "50%       15.000000\n",
      "75%       25.000000\n",
      "max      569.000000\n",
      "Name: GamesInDataset, dtype: float64\n"
     ]
    },
    {
     "data": {
      "image/png": "[encoded data removed]",
      "text/plain": [
       "<Figure size 432x288 with 1 Axes>"
      ]
     },
     "metadata": {
      "needs_background": "light"
     },
     "output_type": "display_data"
    },
    {
     "name": "stdout",
     "output_type": "stream",
     "text": [
      "count    699.000000\n",
      "mean      41.912732\n",
      "std       76.468598\n",
      "min       10.000000\n",
      "25%       14.000000\n",
      "50%       21.000000\n",
      "75%       37.000000\n",
      "max      751.000000\n",
      "Name: GamesInDataset, dtype: float64\n"
     ]
    },
    {
     "data": {
      "image/png": "[encoded data removed]",
      "text/plain": [
       "<Figure size 432x288 with 1 Axes>"
      ]
     },
     "metadata": {
      "needs_background": "light"
     },
     "output_type": "display_data"
    },
    {
     "name": "stdout",
     "output_type": "stream",
     "text": [
      "count     687.000000\n",
      "mean       95.836972\n",
      "std       186.239374\n",
      "min        10.000000\n",
      "25%        18.000000\n",
      "50%        34.000000\n",
      "75%        72.000000\n",
      "max      1557.000000\n",
      "Name: GamesInDataset, dtype: float64\n"
     ]
    },
    {
     "data": {
      "image/png": "[encoded data removed]",
      "text/plain": [
       "<Figure size 432x288 with 1 Axes>"
      ]
     },
     "metadata": {
      "needs_background": "light"
     },
     "output_type": "display_data"
    },
    {
     "name": "stdout",
     "output_type": "stream",
     "text": [
      "count     657.000000\n",
      "mean      302.207002\n",
      "std       388.652927\n",
      "min        10.000000\n",
      "25%        41.000000\n",
      "50%        95.000000\n",
      "75%       494.000000\n",
      "max      2257.000000\n",
      "Name: GamesInDataset, dtype: float64\n"
     ]
    },
    {
     "data": {
      "image/png": "[encoded data removed]",
      "text/plain": [
       "<Figure size 432x288 with 1 Axes>"
      ]
     },
     "metadata": {
      "needs_background": "light"
     },
     "output_type": "display_data"
    }
   ],
   "source": [
    "elo_describe = df['MaxElo'].describe()\n",
    "bins = elo_describe.index[3:]\n",
    "\n",
    "for i in range(len(bins) - 1):\n",
    "    min_elo_index = bins[i]\n",
    "    max_elo_index = bins[i + 1]\n",
    "    min_elo = elo_describe[min_elo_index]\n",
    "    max_elo = elo_describe[max_elo_index]\n",
    "    \n",
    "    mask = (df['MaxElo'] >= min_elo) & (df['MaxElo'] <= max_elo)\n",
    "    df.loc[mask, 'GiniImpurity'].hist()\n",
    "#     print(df.loc[mask, 'GamesInDataset'].describe())\n",
    "    plt.show()    "
   ]
  },
  {
   "cell_type": "code",
   "execution_count": 26,
   "metadata": {},
   "outputs": [
    {
     "data": {
      "text/plain": [
       "(344953, 8)"
      ]
     },
     "execution_count": 26,
     "metadata": {},
     "output_type": "execute_result"
    }
   ],
   "source": [
    "x = pd.read_csv(r\"C:\\Users\\God\\Desktop\\Fall\\CS6630\\Project\\dataviscourse-pr-chess-visualization\\Data\\BestPlayers.csv\", sep=\";\")\n",
    "x.shape"
   ]
  },
  {
   "cell_type": "code",
   "execution_count": null,
   "metadata": {},
   "outputs": [],
   "source": []
  }
 ],
 "metadata": {
  "kernelspec": {
   "display_name": "Python 3",
   "language": "python",
   "name": "python3"
  },
  "language_info": {
   "codemirror_mode": {
    "name": "ipython",
    "version": 3
   },
   "file_extension": ".py",
   "mimetype": "text/x-python",
   "name": "python",
   "nbconvert_exporter": "python",
   "pygments_lexer": "ipython3",
   "version": "3.7.6"
  }
 },
 "nbformat": 4,
 "nbformat_minor": 4
}
