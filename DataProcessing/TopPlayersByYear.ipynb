{
 "cells": [
  {
   "cell_type": "code",
   "execution_count": null,
   "metadata": {},
   "outputs": [],
   "source": [
    "import pandas as pd\n",
    "import numpy as np"
   ]
  },
  {
   "cell_type": "code",
   "execution_count": null,
   "metadata": {},
   "outputs": [],
   "source": [
    "file_path = '../Data/BestPlayers.csv'"
   ]
  },
  {
   "cell_type": "code",
   "execution_count": null,
   "metadata": {},
   "outputs": [],
   "source": [
    "df = pd.read_csv(file_path, sep=';', encoding='utf-8')\n",
    "print(df.shape)\n",
    "df.head()"
   ]
  },
  {
   "cell_type": "code",
   "execution_count": null,
   "metadata": {},
   "outputs": [],
   "source": [
    "def player_top_game(frame):\n",
    "    i = frame['Elo'].idxmax()\n",
    "    res = frame.loc[i, ['Date','PlayerName', 'Elo']]\n",
    "    return res"
   ]
  },
  {
   "cell_type": "code",
   "execution_count": null,
   "metadata": {},
   "outputs": [],
   "source": [
    "def top_players(frame):\n",
    "    player_games = frame.groupby('PlayerName')\n",
    "    top_player_scores = player_games.apply(player_top_game) \n",
    "    top_sorted = top_player_scores.sort_values('Elo', ascending=False)\n",
    "    ten_top =  top_sorted[:10]   \n",
    "    return ten_top"
   ]
  },
  {
   "cell_type": "code",
   "execution_count": null,
   "metadata": {},
   "outputs": [],
   "source": [
    "df['Date'] = df['Date'].map(lambda x: int(x[:4]))"
   ]
  },
  {
   "cell_type": "code",
   "execution_count": null,
   "metadata": {},
   "outputs": [],
   "source": [
    "player_elo_df_na = pd.DataFrame(np.concatenate([df.loc[:, ['Date', 'WhiteName', 'WhiteElo']], df.loc[:, ['Date', 'BlackName', 'BlackElo']]]))\n",
    "player_elo_df_na.columns = ['Date', 'PlayerName', 'Elo']\n",
    "player_elo_df = player_elo_df_na.dropna()\n",
    "player_elo_df['Elo'] = player_elo_df['Elo'].astype(int)\n",
    "player_elo_df = player_elo_df.sort_values('Date')\n",
    "\n",
    "players_by_year = player_elo_df.groupby('Date')\n",
    "top_players_by_year = players_by_year.apply(top_players)\n",
    "top_players_by_year.drop_duplicates()"
   ]
  },
  {
   "cell_type": "code",
   "execution_count": null,
   "metadata": {},
   "outputs": [],
   "source": [
    "best_players_path = '../Data/TopPlayersPerYear.csv'\n",
    "top_players_by_year.to_csv(best_players_path, sep=';', index=False, encoding='utf-8', chunksize=1000)"
   ]
  },
  {
   "cell_type": "code",
   "execution_count": null,
   "metadata": {},
   "outputs": [],
   "source": [
    "players = top_players_by_year['PlayerName']\n",
    "players = players.drop_duplicates()"
   ]
  },
  {
   "cell_type": "code",
   "execution_count": null,
   "metadata": {},
   "outputs": [],
   "source": [
    "def get_player_careers(frame):\n",
    "    years = frame.groupby('Date')\n",
    "    top_elo_by_year = years.apply(player_top_game)\n",
    "    player_career = top_elo_by_year[top_elo_by_year['PlayerName'].isin(players)]\n",
    "    return player_career"
   ]
  },
  {
   "cell_type": "code",
   "execution_count": null,
   "metadata": {},
   "outputs": [],
   "source": [
    "games_of_top_players = player_elo_df.groupby('PlayerName').apply(get_player_careers)"
   ]
  },
  {
   "cell_type": "code",
   "execution_count": null,
   "metadata": {},
   "outputs": [],
   "source": [
    "careers_path = '../Data/TopPlayerCareers.csv'\n",
    "games_of_top_players.to_csv(careers_path, sep=';', index=False, encoding='utf-8', chunksize=1000)"
   ]
  }
 ],
 "metadata": {
  "kernelspec": {
   "display_name": "Python 3",
   "language": "python",
   "name": "python3"
  },
  "language_info": {
   "codemirror_mode": {
    "name": "ipython",
    "version": 3
   },
   "file_extension": ".py",
   "mimetype": "text/x-python",
   "name": "python",
   "nbconvert_exporter": "python",
   "pygments_lexer": "ipython3",
   "version": "3.7.4"
  }
 },
 "nbformat": 4,
 "nbformat_minor": 4
}
