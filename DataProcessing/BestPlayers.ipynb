{
 "cells": [
  {
   "cell_type": "code",
   "execution_count": null,
   "metadata": {},
   "outputs": [],
   "source": [
    "import pandas as pd\n",
    "import numpy as np"
   ]
  },
  {
   "cell_type": "code",
   "execution_count": null,
   "metadata": {},
   "outputs": [],
   "source": [
    "def get_top_n_names(frame, top_n):\n",
    "    rank_se = frame.groupby(\"Name\").max()[\"Elo\"].rank(ascending=False, method='min')\n",
    "    return pd.Series(rank_se[rank_se <= top_n].index)"
   ]
  },
  {
   "cell_type": "code",
   "execution_count": null,
   "metadata": {},
   "outputs": [],
   "source": [
    "df = pd.read_csv('Master.csv', sep=';', encoding='utf-8', na_values='None')\n",
    "df = df[df['Date'].notnull()]\n",
    "df[\"Decade\"] = df[\"Date\"].str[:4].astype(int) // 10\n",
    "print(df.shape)\n",
    "# df.head()"
   ]
  },
  {
   "cell_type": "code",
   "execution_count": null,
   "metadata": {},
   "outputs": [],
   "source": [
    "player_elo_df = pd.DataFrame(np.concatenate([df.loc[:, [\"WhiteName\", \"WhiteElo\", \"Decade\"]], df.loc[:, [\"BlackName\", \"BlackElo\", \"Decade\"]]]))\n",
    "player_elo_df.columns = ['Name', 'Elo', 'Decade']\n",
    "player_elo_df.dropna(inplace=True)\n",
    "player_elo_df['Elo'] = player_elo_df['Elo'].astype(int)"
   ]
  },
  {
   "cell_type": "code",
   "execution_count": null,
   "metadata": {},
   "outputs": [],
   "source": [
    "# Group by decade\n",
    "g = player_elo_df.groupby(\"Decade\")"
   ]
  },
  {
   "cell_type": "code",
   "execution_count": null,
   "metadata": {},
   "outputs": [],
   "source": [
    "# For each decade group by name and get the max, then get the the names of the n highest ranked players\n",
    "top_n = 100\n",
    "\n",
    "apply_lambda = lambda frame: get_top_n_names(frame, top_n)\n",
    "names_se = g.apply(apply_lambda)\n",
    "unique_names_se = names_se.unique()"
   ]
  },
  {
   "cell_type": "code",
   "execution_count": null,
   "metadata": {},
   "outputs": [],
   "source": [
    "# Get DataFrame with only top players and then write dataframe to csv\n",
    "white_name_mask = df['WhiteName'].isin(unique_names_se)\n",
    "black_name_mask = df['BlackName'].isin(unique_names_se)\n",
    "full_mask = white_name_mask | black_name_mask\n",
    "\n",
    "best_players_path = 'best_players.csv'\n",
    "df[full_mask].to_csv(best_players_path, sep=';', index=False, encoding='utf-8', chunksize=1000)\n",
    "print(df[full_mask].shape)\n",
    "print(round(df[full_mask].shape[0] / df.shape[0], 5))"
   ]
  }
 ],
 "metadata": {
  "kernelspec": {
   "display_name": "Python 3",
   "language": "python",
   "name": "python3"
  },
  "language_info": {
   "codemirror_mode": {
    "name": "ipython",
    "version": 3
   },
   "file_extension": ".py",
   "mimetype": "text/x-python",
   "name": "python",
   "nbconvert_exporter": "python",
   "pygments_lexer": "ipython3",
   "version": "3.7.6"
  }
 },
 "nbformat": 4,
 "nbformat_minor": 4
}
