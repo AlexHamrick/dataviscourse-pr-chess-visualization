{
 "cells": [
  {
   "cell_type": "code",
   "execution_count": 237,
   "metadata": {},
   "outputs": [],
   "source": [
    "import pandas as pd\n",
    "import numpy as np"
   ]
  },
  {
   "cell_type": "code",
   "execution_count": 238,
   "metadata": {},
   "outputs": [],
   "source": [
    "file_path = '../Data/BestPlayers.csv'"
   ]
  },
  {
   "cell_type": "code",
   "execution_count": 239,
   "metadata": {},
   "outputs": [
    {
     "name": "stdout",
     "output_type": "stream",
     "text": [
      "(344953, 8)\n"
     ]
    },
    {
     "data": {
      "text/html": [
       "<div>\n",
       "<style scoped>\n",
       "    .dataframe tbody tr th:only-of-type {\n",
       "        vertical-align: middle;\n",
       "    }\n",
       "\n",
       "    .dataframe tbody tr th {\n",
       "        vertical-align: top;\n",
       "    }\n",
       "\n",
       "    .dataframe thead th {\n",
       "        text-align: right;\n",
       "    }\n",
       "</style>\n",
       "<table border=\"1\" class=\"dataframe\">\n",
       "  <thead>\n",
       "    <tr style=\"text-align: right;\">\n",
       "      <th></th>\n",
       "      <th>Date</th>\n",
       "      <th>WhiteName</th>\n",
       "      <th>WhiteElo</th>\n",
       "      <th>BlackName</th>\n",
       "      <th>BlackElo</th>\n",
       "      <th>Result</th>\n",
       "      <th>ECO</th>\n",
       "      <th>Decade</th>\n",
       "    </tr>\n",
       "  </thead>\n",
       "  <tbody>\n",
       "    <tr>\n",
       "      <th>0</th>\n",
       "      <td>2000.03.??</td>\n",
       "      <td>Kasparov, Garry</td>\n",
       "      <td>2851.0</td>\n",
       "      <td>Stoffers, Jeffrey</td>\n",
       "      <td>NaN</td>\n",
       "      <td>1-0</td>\n",
       "      <td>D35</td>\n",
       "      <td>200</td>\n",
       "    </tr>\n",
       "    <tr>\n",
       "      <th>1</th>\n",
       "      <td>2000.03.??</td>\n",
       "      <td>Kasparov, Garry</td>\n",
       "      <td>2851.0</td>\n",
       "      <td>Tomasso, Santiago</td>\n",
       "      <td>NaN</td>\n",
       "      <td>1-0</td>\n",
       "      <td>B01</td>\n",
       "      <td>200</td>\n",
       "    </tr>\n",
       "    <tr>\n",
       "      <th>2</th>\n",
       "      <td>1999.11.20</td>\n",
       "      <td>Kasparov, Garry</td>\n",
       "      <td>2851.0</td>\n",
       "      <td>Teixeira, Rafael Goltsman</td>\n",
       "      <td>NaN</td>\n",
       "      <td>1-0</td>\n",
       "      <td>C54</td>\n",
       "      <td>199</td>\n",
       "    </tr>\n",
       "    <tr>\n",
       "      <th>3</th>\n",
       "      <td>1999.11.20</td>\n",
       "      <td>Kasparov, Garry</td>\n",
       "      <td>2851.0</td>\n",
       "      <td>Quintino, Luis Felipe Pires</td>\n",
       "      <td>NaN</td>\n",
       "      <td>1-0</td>\n",
       "      <td>B01</td>\n",
       "      <td>199</td>\n",
       "    </tr>\n",
       "    <tr>\n",
       "      <th>4</th>\n",
       "      <td>2000.02.09</td>\n",
       "      <td>Kasparov, Garry</td>\n",
       "      <td>2851.0</td>\n",
       "      <td>Piket, Jeroen</td>\n",
       "      <td>2633.0</td>\n",
       "      <td>1/2-1/2</td>\n",
       "      <td>C99</td>\n",
       "      <td>200</td>\n",
       "    </tr>\n",
       "  </tbody>\n",
       "</table>\n",
       "</div>"
      ],
      "text/plain": [
       "         Date        WhiteName  WhiteElo                    BlackName  \\\n",
       "0  2000.03.??  Kasparov, Garry    2851.0            Stoffers, Jeffrey   \n",
       "1  2000.03.??  Kasparov, Garry    2851.0            Tomasso, Santiago   \n",
       "2  1999.11.20  Kasparov, Garry    2851.0    Teixeira, Rafael Goltsman   \n",
       "3  1999.11.20  Kasparov, Garry    2851.0  Quintino, Luis Felipe Pires   \n",
       "4  2000.02.09  Kasparov, Garry    2851.0                Piket, Jeroen   \n",
       "\n",
       "   BlackElo   Result  ECO  Decade  \n",
       "0       NaN      1-0  D35     200  \n",
       "1       NaN      1-0  B01     200  \n",
       "2       NaN      1-0  C54     199  \n",
       "3       NaN      1-0  B01     199  \n",
       "4    2633.0  1/2-1/2  C99     200  "
      ]
     },
     "execution_count": 239,
     "metadata": {},
     "output_type": "execute_result"
    }
   ],
   "source": [
    "df = pd.read_csv(file_path, sep=';', encoding='utf-8')\n",
    "print(df.shape)\n",
    "df.head()"
   ]
  },
  {
   "cell_type": "code",
   "execution_count": 240,
   "metadata": {},
   "outputs": [],
   "source": [
    "def player_top_game(frame):\n",
    "    i = frame['Elo'].idxmax()\n",
    "    res = frame.loc[i, ['Date','PlayerName', 'Elo']]\n",
    "    return res"
   ]
  },
  {
   "cell_type": "code",
   "execution_count": 241,
   "metadata": {},
   "outputs": [],
   "source": [
    "def top_players(frame):\n",
    "    player_games = frame.groupby('PlayerName')\n",
    "    top_player_scores = player_games.apply(player_top_game) \n",
    "    top_sorted = top_player_scores.sort_values('Elo', ascending=False)\n",
    "    ten_top =  top_sorted[:10]   \n",
    "    return ten_top"
   ]
  },
  {
   "cell_type": "code",
   "execution_count": 242,
   "metadata": {},
   "outputs": [],
   "source": [
    "df['Date'] = df['Date'].map(lambda x: int(x[:4]))"
   ]
  },
  {
   "cell_type": "code",
   "execution_count": null,
   "metadata": {},
   "outputs": [],
   "source": [
    "player_elo_df_na = pd.DataFrame(np.concatenate([df.loc[:, ['Date', 'WhiteName', 'WhiteElo']], df.loc[:, ['Date', 'BlackName', 'BlackElo']]]))\n",
    "player_elo_df_na.columns = ['Date', 'PlayerName', 'Elo']\n",
    "player_elo_df = player_elo_df_na.dropna()\n",
    "player_elo_df['Elo'] = player_elo_df['Elo'].astype(int)\n",
    "player_elo_df = player_elo_df.sort_values('Date')\n",
    "\n",
    "players_by_year = player_elo_df.groupby('Date')\n",
    "top_players_by_year = players_by_year.apply(top_players)\n",
    "top_players_by_year.drop_duplicates()"
   ]
  },
  {
   "cell_type": "code",
   "execution_count": 244,
   "metadata": {},
   "outputs": [],
   "source": [
    "best_players_path = '../Data/TopPlayersPerYear.csv'\n",
    "top_players_by_year.to_csv(best_players_path, sep=';', index=False, encoding='utf-8', chunksize=1000)"
   ]
  }
 ],
 "metadata": {
  "kernelspec": {
   "display_name": "Python 3",
   "language": "python",
   "name": "python3"
  },
  "language_info": {
   "codemirror_mode": {
    "name": "ipython",
    "version": 3
   },
   "file_extension": ".py",
   "mimetype": "text/x-python",
   "name": "python",
   "nbconvert_exporter": "python",
   "pygments_lexer": "ipython3",
   "version": "3.7.4"
  }
 },
 "nbformat": 4,
 "nbformat_minor": 4
}
