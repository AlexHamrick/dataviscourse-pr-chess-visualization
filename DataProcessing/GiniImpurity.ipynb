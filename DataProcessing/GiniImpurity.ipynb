{
 "cells": [
  {
   "cell_type": "code",
   "execution_count": null,
   "metadata": {},
   "outputs": [],
   "source": [
    "import pandas as pd\n",
    "import numpy as np"
   ]
  },
  {
   "cell_type": "code",
   "execution_count": null,
   "metadata": {},
   "outputs": [],
   "source": [
    "def calc_gini_impurity(frame):\n",
    "    frame_size = len(frame)\n",
    "    eco_g = frame.groupby('ECO')\n",
    "    square_frac = (eco_g.size() / frame_size).pow(2)\n",
    "    return 1 - square_frac.sum()"
   ]
  },
  {
   "cell_type": "code",
   "execution_count": null,
   "metadata": {},
   "outputs": [],
   "source": [
    "file_path = 'BestPlayers.csv'"
   ]
  },
  {
   "cell_type": "code",
   "execution_count": null,
   "metadata": {},
   "outputs": [],
   "source": [
    "df = pd.read_csv(file_path, sep=';', encoding='utf-8')\n",
    "print(df.shape)\n",
    "df.head()"
   ]
  },
  {
   "cell_type": "code",
   "execution_count": null,
   "metadata": {},
   "outputs": [],
   "source": [
    "# Get the gini impurity of each player\n",
    "white_name_g = df.groupby('WhiteName')\n",
    "gini_se = white_name_g.apply(calc_gini_impurity)\n",
    "gini_se.name = 'GiniImpurity'"
   ]
  },
  {
   "cell_type": "code",
   "execution_count": null,
   "metadata": {},
   "outputs": [],
   "source": [
    "# Get number of games as white for each player\n",
    "size_se = white_name_g.size()\n",
    "size_se.name = 'GamesInDataset'"
   ]
  },
  {
   "cell_type": "code",
   "execution_count": null,
   "metadata": {},
   "outputs": [],
   "source": [
    "# Get max elo\n",
    "player_elo_df = pd.DataFrame(np.concatenate([df.loc[:, ['WhiteName', 'WhiteElo']], df.loc[:, ['BlackName', 'BlackElo']]]))\n",
    "player_elo_df.columns = ['Name', 'Elo']\n",
    "player_elo_df.dropna(inplace=True)\n",
    "player_elo_df['Elo'] = player_elo_df['Elo'].astype(int)\n",
    "\n",
    "max_elo_se = player_elo_df.groupby(\"Name\").max()\n",
    "max_elo_se.columns = ['MaxElo']"
   ]
  },
  {
   "cell_type": "code",
   "execution_count": null,
   "metadata": {},
   "outputs": [],
   "source": [
    "# Merge series above series into a df\n",
    "min_num_games = 10\n",
    "result_df = pd.concat([gini_se, size_se], axis=1)\n",
    "result_df = result_df[result_df['GamesInDataset'] >= min_num_games]\n",
    "result_df.reset_index(inplace=True)\n",
    "result_df = result_df.merge(max_elo_se, how='inner', left_on='WhiteName', right_index=True)\n",
    "print(result_df.shape)\n",
    "result_df.head()"
   ]
  },
  {
   "cell_type": "code",
   "execution_count": null,
   "metadata": {},
   "outputs": [],
   "source": [
    "# Write to a csv\n",
    "gini_path = 'GiniImpurity.csv'\n",
    "result_df.to_csv(gini_path, sep=';', index=False, encoding='utf-8')"
   ]
  }
 ],
 "metadata": {
  "kernelspec": {
   "display_name": "Python 3",
   "language": "python",
   "name": "python3"
  },
  "language_info": {
   "codemirror_mode": {
    "name": "ipython",
    "version": 3
   },
   "file_extension": ".py",
   "mimetype": "text/x-python",
   "name": "python",
   "nbconvert_exporter": "python",
   "pygments_lexer": "ipython3",
   "version": "3.7.6"
  }
 },
 "nbformat": 4,
 "nbformat_minor": 4
}
