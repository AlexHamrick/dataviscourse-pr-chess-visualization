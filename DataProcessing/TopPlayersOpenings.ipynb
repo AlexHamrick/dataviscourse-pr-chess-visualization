{
 "cells": [
  {
   "cell_type": "code",
   "execution_count": null,
   "metadata": {},
   "outputs": [],
   "source": [
    "import pandas as pd\n",
    "import numpy as np"
   ]
  },
  {
   "cell_type": "code",
   "execution_count": null,
   "metadata": {},
   "outputs": [],
   "source": [
    "all_path = '../Data/BestPlayers.csv'\n",
    "top_path = '../Data/TopPlayersByYear.csv'"
   ]
  },
  {
   "cell_type": "code",
   "execution_count": null,
   "metadata": {},
   "outputs": [],
   "source": [
    "all_data = pd.read_csv(all_path, sep=';', encoding='utf-8')\n",
    "top_data = pd.read_csv(top_path, sep=';', encoding='utf-8')\n",
    "top_unique = top_data.drop_duplicates(subset=['PlayerName'])\n",
    "top_unique = top_unique[\"PlayerName\"]\n",
    "pd.set_option('display.max_rows', 1000)\n",
    "all_openings = pd.DataFrame(np.concatenate([all_data.loc[:, ['WhiteName', 'ECO']], all_data.loc[:, ['BlackName', 'ECO']]]))\n",
    "all_openings.columns = ['PlayerName', 'ECO']\n",
    "all_openings = all_openings.dropna()\n",
    "all_openings.head(100)"
   ]
  },
  {
   "cell_type": "code",
   "execution_count": null,
   "metadata": {},
   "outputs": [],
   "source": [
    "top_openings = all_openings.groupby([\"PlayerName\", \"ECO\"]).size().reset_index(name='count')\n",
    "top_openings = top_openings[top_openings[\"PlayerName\"].isin(top_unique)]\n",
    "top_openings.head(100)"
   ]
  },
  {
   "cell_type": "code",
   "execution_count": null,
   "metadata": {},
   "outputs": [],
   "source": [
    "def top_ECOs(frame):\n",
    "    sorted_ECOs = frame.sort_values('count', ascending=False)\n",
    "    sorted_ECOs['pct'] = sorted_ECOs['count'] / sorted_ECOs['count'].sum()\n",
    "    sorted_ECOs = sorted_ECOs[:10] if len(sorted_ECOs) >= 10 else sorted_ECOs\n",
    "    return sorted_ECOs"
   ]
  },
  {
   "cell_type": "code",
   "execution_count": null,
   "metadata": {},
   "outputs": [],
   "source": [
    "openings_group = top_openings.groupby(\"PlayerName\")\n",
    "trimmed_openings = openings_group.apply(top_ECOs)"
   ]
  },
  {
   "cell_type": "code",
   "execution_count": null,
   "metadata": {},
   "outputs": [],
   "source": [
    "top_openings_path = '../Data/TopPlayerOpenings.csv'\n",
    "trimmed_openings.to_csv(top_openings_path, sep=';', index=False, encoding='utf-8', chunksize=1000)"
   ]
  }
 ],
 "metadata": {
  "kernelspec": {
   "display_name": "Python 3",
   "language": "python",
   "name": "python3"
  },
  "language_info": {
   "codemirror_mode": {
    "name": "ipython",
    "version": 3
   },
   "file_extension": ".py",
   "mimetype": "text/x-python",
   "name": "python",
   "nbconvert_exporter": "python",
   "pygments_lexer": "ipython3",
   "version": "3.7.4"
  }
 },
 "nbformat": 4,
 "nbformat_minor": 4
}
