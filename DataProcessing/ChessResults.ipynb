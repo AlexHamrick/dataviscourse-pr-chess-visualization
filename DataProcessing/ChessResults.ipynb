{
 "cells": [
  {
   "cell_type": "code",
   "execution_count": 1,
   "metadata": {},
   "outputs": [],
   "source": [
    "import pandas as pd\n",
    "import numpy as np"
   ]
  },
  {
   "cell_type": "code",
   "execution_count": 2,
   "metadata": {},
   "outputs": [],
   "source": [
    "file_path = '../Data/BestPlayers.csv'"
   ]
  },
  {
   "cell_type": "code",
   "execution_count": 3,
   "metadata": {},
   "outputs": [
    {
     "name": "stdout",
     "output_type": "stream",
     "text": [
      "(344953, 8)\n"
     ]
    },
    {
     "data": {
      "text/html": [
       "<div>\n",
       "<style scoped>\n",
       "    .dataframe tbody tr th:only-of-type {\n",
       "        vertical-align: middle;\n",
       "    }\n",
       "\n",
       "    .dataframe tbody tr th {\n",
       "        vertical-align: top;\n",
       "    }\n",
       "\n",
       "    .dataframe thead th {\n",
       "        text-align: right;\n",
       "    }\n",
       "</style>\n",
       "<table border=\"1\" class=\"dataframe\">\n",
       "  <thead>\n",
       "    <tr style=\"text-align: right;\">\n",
       "      <th></th>\n",
       "      <th>Date</th>\n",
       "      <th>WhiteName</th>\n",
       "      <th>WhiteElo</th>\n",
       "      <th>BlackName</th>\n",
       "      <th>BlackElo</th>\n",
       "      <th>Result</th>\n",
       "      <th>ECO</th>\n",
       "      <th>Decade</th>\n",
       "    </tr>\n",
       "  </thead>\n",
       "  <tbody>\n",
       "    <tr>\n",
       "      <th>0</th>\n",
       "      <td>2000.03.??</td>\n",
       "      <td>Kasparov, Garry</td>\n",
       "      <td>2851.0</td>\n",
       "      <td>Stoffers, Jeffrey</td>\n",
       "      <td>NaN</td>\n",
       "      <td>1-0</td>\n",
       "      <td>D35</td>\n",
       "      <td>200</td>\n",
       "    </tr>\n",
       "    <tr>\n",
       "      <th>1</th>\n",
       "      <td>2000.03.??</td>\n",
       "      <td>Kasparov, Garry</td>\n",
       "      <td>2851.0</td>\n",
       "      <td>Tomasso, Santiago</td>\n",
       "      <td>NaN</td>\n",
       "      <td>1-0</td>\n",
       "      <td>B01</td>\n",
       "      <td>200</td>\n",
       "    </tr>\n",
       "    <tr>\n",
       "      <th>2</th>\n",
       "      <td>1999.11.20</td>\n",
       "      <td>Kasparov, Garry</td>\n",
       "      <td>2851.0</td>\n",
       "      <td>Teixeira, Rafael Goltsman</td>\n",
       "      <td>NaN</td>\n",
       "      <td>1-0</td>\n",
       "      <td>C54</td>\n",
       "      <td>199</td>\n",
       "    </tr>\n",
       "    <tr>\n",
       "      <th>3</th>\n",
       "      <td>1999.11.20</td>\n",
       "      <td>Kasparov, Garry</td>\n",
       "      <td>2851.0</td>\n",
       "      <td>Quintino, Luis Felipe Pires</td>\n",
       "      <td>NaN</td>\n",
       "      <td>1-0</td>\n",
       "      <td>B01</td>\n",
       "      <td>199</td>\n",
       "    </tr>\n",
       "    <tr>\n",
       "      <th>4</th>\n",
       "      <td>2000.02.09</td>\n",
       "      <td>Kasparov, Garry</td>\n",
       "      <td>2851.0</td>\n",
       "      <td>Piket, Jeroen</td>\n",
       "      <td>2633.0</td>\n",
       "      <td>1/2-1/2</td>\n",
       "      <td>C99</td>\n",
       "      <td>200</td>\n",
       "    </tr>\n",
       "  </tbody>\n",
       "</table>\n",
       "</div>"
      ],
      "text/plain": [
       "         Date        WhiteName  WhiteElo                    BlackName  \\\n",
       "0  2000.03.??  Kasparov, Garry    2851.0            Stoffers, Jeffrey   \n",
       "1  2000.03.??  Kasparov, Garry    2851.0            Tomasso, Santiago   \n",
       "2  1999.11.20  Kasparov, Garry    2851.0    Teixeira, Rafael Goltsman   \n",
       "3  1999.11.20  Kasparov, Garry    2851.0  Quintino, Luis Felipe Pires   \n",
       "4  2000.02.09  Kasparov, Garry    2851.0                Piket, Jeroen   \n",
       "\n",
       "   BlackElo   Result  ECO  Decade  \n",
       "0       NaN      1-0  D35     200  \n",
       "1       NaN      1-0  B01     200  \n",
       "2       NaN      1-0  C54     199  \n",
       "3       NaN      1-0  B01     199  \n",
       "4    2633.0  1/2-1/2  C99     200  "
      ]
     },
     "execution_count": 3,
     "metadata": {},
     "output_type": "execute_result"
    }
   ],
   "source": [
    "df = pd.read_csv(file_path, sep=';', encoding='utf-8')\n",
    "print(df.shape)\n",
    "df.head()"
   ]
  },
  {
   "cell_type": "code",
   "execution_count": 4,
   "metadata": {},
   "outputs": [],
   "source": [
    "df['Date'] = df['Date'].map(lambda x: int(x[:4]))"
   ]
  },
  {
   "cell_type": "code",
   "execution_count": 5,
   "metadata": {},
   "outputs": [],
   "source": [
    "df = df.drop(columns=['WhiteName','WhiteElo','BlackName','BlackElo','Decade'])"
   ]
  },
  {
   "cell_type": "code",
   "execution_count": 6,
   "metadata": {},
   "outputs": [
    {
     "data": {
      "text/html": [
       "<div>\n",
       "<style scoped>\n",
       "    .dataframe tbody tr th:only-of-type {\n",
       "        vertical-align: middle;\n",
       "    }\n",
       "\n",
       "    .dataframe tbody tr th {\n",
       "        vertical-align: top;\n",
       "    }\n",
       "\n",
       "    .dataframe thead th {\n",
       "        text-align: right;\n",
       "    }\n",
       "</style>\n",
       "<table border=\"1\" class=\"dataframe\">\n",
       "  <thead>\n",
       "    <tr style=\"text-align: right;\">\n",
       "      <th></th>\n",
       "      <th>Date</th>\n",
       "      <th>Result</th>\n",
       "      <th>ECO</th>\n",
       "    </tr>\n",
       "  </thead>\n",
       "  <tbody>\n",
       "    <tr>\n",
       "      <th>0</th>\n",
       "      <td>2000</td>\n",
       "      <td>1-0</td>\n",
       "      <td>D35</td>\n",
       "    </tr>\n",
       "    <tr>\n",
       "      <th>1</th>\n",
       "      <td>2000</td>\n",
       "      <td>1-0</td>\n",
       "      <td>B01</td>\n",
       "    </tr>\n",
       "    <tr>\n",
       "      <th>2</th>\n",
       "      <td>1999</td>\n",
       "      <td>1-0</td>\n",
       "      <td>C54</td>\n",
       "    </tr>\n",
       "    <tr>\n",
       "      <th>3</th>\n",
       "      <td>1999</td>\n",
       "      <td>1-0</td>\n",
       "      <td>B01</td>\n",
       "    </tr>\n",
       "    <tr>\n",
       "      <th>4</th>\n",
       "      <td>2000</td>\n",
       "      <td>1/2-1/2</td>\n",
       "      <td>C99</td>\n",
       "    </tr>\n",
       "  </tbody>\n",
       "</table>\n",
       "</div>"
      ],
      "text/plain": [
       "   Date   Result  ECO\n",
       "0  2000      1-0  D35\n",
       "1  2000      1-0  B01\n",
       "2  1999      1-0  C54\n",
       "3  1999      1-0  B01\n",
       "4  2000  1/2-1/2  C99"
      ]
     },
     "execution_count": 6,
     "metadata": {},
     "output_type": "execute_result"
    }
   ],
   "source": [
    "df.head()"
   ]
  },
  {
   "cell_type": "markdown",
   "metadata": {},
   "source": [
    "Need a dataframe which has columns: ECO, Year, Games, White, Draw, Black\n",
    "where the primary key is (ECO, Year) and the Games, White, Draw, and Black correspond to that key.\n",
    "\n",
    "Games - Total number of games for that (ECO, Year) pair\n",
    "White - Total number of white wins\n",
    "Draw - Total number of draws\n",
    "Black - Total number of black wins\n",
    "(if \"1-0\" -> white, else if \"1/2-1/2\" -> draw, else -> black)"
   ]
  }
 ],
 "metadata": {
  "kernelspec": {
   "display_name": "Python 3",
   "language": "python",
   "name": "python3"
  },
  "language_info": {
   "codemirror_mode": {
    "name": "ipython",
    "version": 3
   },
   "file_extension": ".py",
   "mimetype": "text/x-python",
   "name": "python",
   "nbconvert_exporter": "python",
   "pygments_lexer": "ipython3",
   "version": "3.7.3"
  }
 },
 "nbformat": 4,
 "nbformat_minor": 2
}
